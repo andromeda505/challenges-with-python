{
 "cells": [
  {
   "cell_type": "code",
   "execution_count": null,
   "id": "66daddd1-728d-4b07-816d-8fd96ac379c2",
   "metadata": {},
   "outputs": [],
   "source": [
    "# Preguntar la edad de una persona para saber si es mayor de edad o no\n",
    "\n",
    "age = int(input('¿Cuál es tu edad? '))\n",
    "\n",
    "if age >= 1 and age < 18:\n",
    "    print('Eres menor de edad.')\n",
    "elif age <= 0:\n",
    "    print('El digito que ingresaste no es valido.')\n",
    "else:\n",
    "    print('Felicidades ya eres un adulto.')"
   ]
  },
  {
   "cell_type": "code",
   "execution_count": null,
   "id": "9806fb71-933e-4ad2-9616-0e28aa3e4ebe",
   "metadata": {},
   "outputs": [],
   "source": [
    "'''Ejercicio 2\n",
    "Escribir un programa que almacene la cadena de caracteres contraseña en una variable, \n",
    "pregunte al usuario por la contraseña e imprima por pantalla si la contraseña \n",
    "introducida por el usuario coincide con la guardada en la variable sin tener en cuenta mayúsculas y minúsculas.'''\n",
    "\n",
    "key = 'pass'\n",
    "\n",
    "password = input('Introduce la contraseña: ')\n",
    "password = password.lower()\n",
    "\n",
    "if key == password:\n",
    "    print('La contraseña es correcta.')\n",
    "else:\n",
    "    print('La contraseña es incorrecta.')"
   ]
  },
  {
   "cell_type": "code",
   "execution_count": null,
   "id": "3876a1db-fa53-42f7-aeab-88d380ee44b8",
   "metadata": {},
   "outputs": [],
   "source": [
    "'''Ejercicio 3\n",
    "Escribir un programa que pida al usuario dos números y muestre por pantalla su división. \n",
    "Si el divisor es cero el programa debe mostrar un error.'''\n",
    "\n",
    "dividendo = float(input('Digita un número: '))\n",
    "divisor = float(input('Digita otro número: '))\n",
    "\n",
    "if divisor == 0:\n",
    "    print('No se puede realizar la division entre \"0\"')\n",
    "else:\n",
    "    print(f'El resultado de la division es: {round(dividendo / divisor, 2)}')"
   ]
  },
  {
   "cell_type": "code",
   "execution_count": null,
   "id": "42ef0e24-a564-498c-9733-a209576e1196",
   "metadata": {},
   "outputs": [],
   "source": [
    "'''Ejercicio 4\n",
    "Escribir un programa que pida al usuario un número entero \n",
    "y muestre por pantalla si es par o impar.'''\n",
    "\n",
    "num = int(input('Digita un número entero: '))\n",
    "\n",
    "if num % 2 == 0:\n",
    "    print(f'El número {num} es par.')\n",
    "else:\n",
    "    print(f'El número {num} es impar.')"
   ]
  },
  {
   "cell_type": "code",
   "execution_count": null,
   "id": "6cf0116e-afbb-4ed1-bc0f-7f6c368e5303",
   "metadata": {},
   "outputs": [],
   "source": [
    "'''Ejercicio 5\n",
    "Para tributar un determinado impuesto se debe ser mayor de 16 años \n",
    "y tener unos ingresos iguales o superiores a 1000 € mensuales. \n",
    "Escribir un programa que pregunte al usuario su edad y sus ingresos mensuales y muestre por pantalla si el usuario tiene que tributar o no.'''\n",
    "\n",
    "age = int(input('¿Qué edad tienes? '))\n",
    "ingreso = int(input('Digita tu ingreso mensual: '))\n",
    "\n",
    "if age >= 16 and ingreso >= 1000:\n",
    "    print('Tienes que pagar impuestos.')\n",
    "else:\n",
    "    print('No tributaras.')"
   ]
  },
  {
   "cell_type": "code",
   "execution_count": null,
   "id": "332310c8-2ba1-4b24-bf7c-7c9db243dfe2",
   "metadata": {},
   "outputs": [],
   "source": [
    "'''Ejercicio 6\n",
    "Los alumnos de un curso se han dividido en dos grupos A y B de acuerdo al sexo y el nombre. \n",
    "El grupo A esta formado por las mujeres con un nombre anterior a la M y los hombres con un nombre posterior a la N y el grupo B por el resto. \n",
    "Escribir un programa que pregunte al usuario su nombre y sexo, y muestre por pantalla el grupo que le corresponde.'''\n",
    "\n",
    "name = input('Ingresa tu nombre: ').title()\n",
    "gen = input('Ingresa cuál es tu género: ')\n",
    "\n",
    "if gen == 'mujer' and name < 'M' or gen == 'hombre' and name > 'N':\n",
    "    print('Perteneces al grupo A')\n",
    "else: \n",
    "    print('Perteneces al grupo B')"
   ]
  },
  {
   "cell_type": "code",
   "execution_count": null,
   "id": "5413860a-ef2e-44e0-b563-fce33e8ffda2",
   "metadata": {},
   "outputs": [],
   "source": [
    "'''Ejercicio 7\n",
    "Los tramos impositivos para la declaración de la renta en un determinado país son los siguientes:\n",
    "Renta\t                Tipo impositivo\n",
    "Menos de 10000€\t              5%\n",
    "Entre 10000€ y 20000€\t     15%\n",
    "Entre 20000€ y 35000€\t     20%\n",
    "Entre 35000€ y 60000€\t     30%\n",
    "Más de 60000€\t             45%\n",
    "Escribir un programa que pregunte al usuario su renta anual y muestre por pantalla el tipo impositivo que le corresponde.'''\n",
    "\n",
    "renta = float(input('Ingresa tu renta anual en €: '))\n",
    "\n",
    "tasa_1 = 0.05\n",
    "tasa_2 = 1.5\n",
    "tasa_3 = 2.0\n",
    "tasa_4 = 3.0\n",
    "tasa_5 = 4.5\n",
    "\n",
    "if renta > 0 and renta < 10000:\n",
    "    print(f'Te corresponde el impuesto del 5%: {renta * tasa_1}€')\n",
    "elif renta >= 10000 and renta < 20000:\n",
    "    print(f'Te corresponde el impuesto del 15%: {renta * tasa_2}€')\n",
    "elif renta >= 20000 and renta < 35000:\n",
    "    print(f'Te corresponde el impuesto del 20%: {renta* tasa_3}€')\n",
    "elif renta >= 35000 and renta < 60000:\n",
    "    print(f'Te corresponde el impuesto del 30%: {renta * tasa_4}€')\n",
    "else:\n",
    "    print(f'Te corresponde el impuesto del 45%: {renta * tasa_5}€')"
   ]
  },
  {
   "cell_type": "code",
   "execution_count": null,
   "id": "ed6378fb-36cf-41c2-b974-38a1adf3a557",
   "metadata": {},
   "outputs": [],
   "source": [
    "'''Ejercicio 8\n",
    "En una determinada empresa, sus empleados son evaluados al final de cada año. \n",
    "Los puntos que pueden obtener en la evaluación comienzan en 0.0 y pueden ir aumentando, traduciéndose en mejores beneficios. \n",
    "Los puntos que pueden conseguir los empleados pueden ser 0.0, 0.4, 0.6 o más, pero no valores intermedios entre las cifras mencionadas. \n",
    "A continuación se muestra una tabla con los niveles correspondientes a cada puntuación. \n",
    "La cantidad de dinero conseguida en cada nivel es de 2.400€ multiplicada por la puntuación del nivel.\n",
    "Nivel\t       Puntuación\n",
    "Inaceptable\t   0.0\n",
    "Aceptable\t   0.4\n",
    "Meritorio\t   0.6 o más\n",
    "Escribir un programa que lea la puntuación del usuario e indique su nivel de rendimiento, así como la cantidad de dinero que recibirá el usuario.\n",
    "'''\n",
    "\n",
    "puntos = float(input('Ingresa el puntaje obtenido (0.0 / 0.4 / 0.6 o mas): '))\n",
    "premio = 2400\n",
    "total = puntos * premio\n",
    "\n",
    "if puntos >= 0.6:\n",
    "    print(f\"Si tu puntuacion es de {puntos} entonces tienes un nivel Meritorio y conseguiste {total}€\")\n",
    "elif puntos == 0.4:\n",
    "    print(f\"Si tu puntuacion es de {puntos} entonces tienes un nivel Aceptable y conseguiste {total}€\")\n",
    "elif puntos == 0.0:\n",
    "    print(f\"Si tu puntuacion es de {puntos} entonces tienes un nivel Inaceptable {total}€\")\n",
    "else:\n",
    "    print(f'Puntuacion no valida')"
   ]
  },
  {
   "cell_type": "code",
   "execution_count": null,
   "id": "60b3f63f-9718-4829-ab0a-8ed6e95d7b35",
   "metadata": {},
   "outputs": [],
   "source": [
    "'''Ejercicio 9\n",
    "Escribir un programa para una empresa que tiene salas de juegos para todas las edades y quiere calcular de forma automática \n",
    "el precio que debe cobrar a sus clientes por entrar. El programa debe preguntar al usuario la edad del cliente y mostrar el precio de la entrada. \n",
    "Si el cliente es menor de 4 años puede entrar gratis, si tiene entre 4 y 18 años debe pagar 5€ y si es mayor de 18 años, 10€.'''\n",
    "\n",
    "edad = int(input('Digita tu edad: '))\n",
    "\n",
    "if edad >= 0 and edad < 4:\n",
    "    print('La entrada es Gratis')\n",
    "elif edad >= 4 and edad <= 18:\n",
    "    print('La entrada es de 5€')\n",
    "elif edad >= 18:\n",
    "    print('Tienes que pagar 10€')\n",
    "else:\n",
    "    print('Edad no valida')"
   ]
  },
  {
   "cell_type": "code",
   "execution_count": null,
   "id": "b3c42ff2-d930-4d28-b3c2-48641617e7d3",
   "metadata": {},
   "outputs": [],
   "source": [
    "'''Ejercicio 10\n",
    "La pizzería Bella Napoli ofrece pizzas vegetarianas y no vegetarianas a sus clientes. \n",
    "Los ingredientes para cada tipo de pizza aparecen a continuación:\n",
    "-Ingredientes vegetarianos: Pimiento y tofu.\n",
    "-Ingredientes no vegetarianos: Peperoni, Jamón y Salmón.\n",
    "Escribir un programa que pregunte al usuario si quiere una pizza vegetariana o no, y en función de su respuesta le muestre un menú con \n",
    "los ingredientes disponibles para que elija. Solo se puede eligir un ingrediente además de la mozzarella y el tomate que están en todas la pizzas. \n",
    "Al final se debe mostrar por pantalla si la pizza elegida es vegetariana o no y todos los ingredientes que lleva.'''\n",
    "\n",
    "elec_pizza = input('Selecciona (a) para vegetariana o (b) para No vegetariana: ').lower()\n",
    "\n",
    "opcion_1 = int(input('Elige una ingrediente (1) Pimiento o (2) Tofu: '))\n",
    "opcion_2 = int(input('Elige una ingrediente (3) Peperoni, (4) Jamon o (5) Salmon: '))\n",
    "    \n",
    "if elec_pizza == 'a':\n",
    "    print('Ingredientes base: mozzarella y tomate', opcion_1)\n",
    "    if opcion_1 == 1:\n",
    "        print(f'Tu orden sera de una pizza {elec_pizza} con los siguientes ingredientes: mozzarella, tomate y pimiento')\n",
    "    elif opcion_2 == 2:\n",
    "        print(f'Tu orden sera de una pizza {elec_pizza} con los siguientes ingredientes: mozzarella, tomate y tofu')\n",
    "    else:\n",
    "        print('Opcion no valida')\n",
    "    elif elec_pizza == 'b':\n",
    "    print('Ingredientes base: mozzarella y tomate', opcion_2)\n",
    "    if option_2 == 3:\n",
    "        print(f'Tu orden sera de una pizza {elec_pizza} con los siguientes ingredientes: mozzarella, tomate y peperoni')\n",
    "    elif opcion_2 == 4:\n",
    "        print(f'Tu orden sera de una pizza {elec_pizza} con los siguientes ingredientes: mozzarella, tomate y jamon')\n",
    "    elif opcion == 5:\n",
    "        print(f'Tu orden sera de una pizza {elec_pizza} con los siguientes ingredientes: mozzarella, tomate y salmon')\n",
    "    else:\n",
    "        print('Opcion no valida')\n",
    "else:\n",
    "    print('Opcion no valida')"
   ]
  },
  {
   "cell_type": "code",
   "execution_count": 9,
   "id": "5af3bfa7",
   "metadata": {},
   "outputs": [
    {
     "name": "stdin",
     "output_type": "stream",
     "text": [
      "Selecciona (a) para vegetariana o (b) para No vegetariana:  e\n"
     ]
    },
    {
     "name": "stdout",
     "output_type": "stream",
     "text": [
      "Opcion no valida\n"
     ]
    },
    {
     "name": "stdin",
     "output_type": "stream",
     "text": [
      "Selecciona (a) para vegetariana o (b) para No vegetariana:  r\n"
     ]
    },
    {
     "name": "stdout",
     "output_type": "stream",
     "text": [
      "Tu orden sera de una pizza r con los siguientes ingredientes: mozzarella, tomate y \n"
     ]
    }
   ],
   "source": [
    "'''Ejercicio 10\n",
    "La pizzería Bella Napoli ofrece pizzas vegetarianas y no vegetarianas a sus clientes. \n",
    "Los ingredientes para cada tipo de pizza aparecen a continuación:\n",
    "-Ingredientes vegetarianos: Pimiento y tofu.\n",
    "-Ingredientes no vegetarianos: Peperoni, Jamón y Salmón.\n",
    "Escribir un programa que pregunte al usuario si quiere una pizza vegetariana o no, y en función de su respuesta le muestre un menú con \n",
    "los ingredientes disponibles para que elija. Solo se puede eligir un ingrediente además de la mozzarella y el tomate que están en todas la pizzas. \n",
    "Al final se debe mostrar por pantalla si la pizza elegida es vegetariana o no y todos los ingredientes que lleva.'''\n",
    "\n",
    "elec_pizza = input('Selecciona (a) para vegetariana o (b) para No vegetariana: ').lower()\n",
    "\n",
    "opcion_1 = 'pimiento'\n",
    "opcion_2 = 'tofu'\n",
    "opcion_3 = 'peperoni'\n",
    "opcion_4 = 'jamon'\n",
    "opcion_5 = 'salmon'\n",
    "opcion = ''\n",
    "\n",
    "if elec_pizza == 'a':\n",
    "    menu_a= input('Elige una ingrediente (1) Pimiento o (2) Tofu: ')\n",
    "    if menu_a == '1':\n",
    "        opcion = opcion_1\n",
    "    elif menu_a == '2':\n",
    "        opcion = opcion_2\n",
    "    else:\n",
    "        print('Opción no válida')\n",
    "\n",
    "elif elec_pizza == 'b':\n",
    "    menu_b = input('Elige una ingrediente (3) Peperoni, (4) Jamón o (5) Salmón: ')\n",
    "    if menu_b == '3':\n",
    "        opcion = opcion_3\n",
    "    elif menu_b == '4':\n",
    "        opcion = opcion_4\n",
    "    elif menu_b == '5':\n",
    "        opcion = opcion_5\n",
    "    else:\n",
    "        print('Opción no válida')\n",
    "else:\n",
    "    print('Opción no válida')\n",
    "\n",
    "print(f'Tu orden será de una pizza {elec_pizza} con los siguientes ingredientes: mozzarella, tomate y {opcion}')"
   ]
  }
 ],
 "metadata": {
  "kernelspec": {
   "display_name": "Python 3 (ipykernel)",
   "language": "python",
   "name": "python3"
  },
  "language_info": {
   "codemirror_mode": {
    "name": "ipython",
    "version": 3
   },
   "file_extension": ".py",
   "mimetype": "text/x-python",
   "name": "python",
   "nbconvert_exporter": "python",
   "pygments_lexer": "ipython3",
   "version": "3.10.14"
  }
 },
 "nbformat": 4,
 "nbformat_minor": 5
}
