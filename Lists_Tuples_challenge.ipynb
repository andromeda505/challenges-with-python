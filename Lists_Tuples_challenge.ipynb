{
 "cells": [
  {
   "cell_type": "markdown",
   "metadata": {},
   "source": [
    "# Challenge Lists and Tuples"
   ]
  },
  {
   "cell_type": "code",
   "execution_count": 1,
   "metadata": {},
   "outputs": [
    {
     "name": "stdout",
     "output_type": "stream",
     "text": [
      "['Matemáticas', 'Física', 'Química', 'Historia', 'Lengua']\n"
     ]
    }
   ],
   "source": [
    "'''Ejercicio 1\n",
    "Escribir un programa que almacene las asignaturas de un curso \n",
    "(por ejemplo Matemáticas, Física, Química, Historia y Lengua) en una lista y la muestre por pantalla.'''\n",
    "\n",
    "asignaturas = ['Matemáticas', 'Física', 'Química', 'Historia', 'Lengua']\n",
    "print(asignaturas)"
   ]
  },
  {
   "cell_type": "code",
   "execution_count": 4,
   "metadata": {},
   "outputs": [
    {
     "name": "stdout",
     "output_type": "stream",
     "text": [
      "Yo estudio Matemáticas\n",
      "Yo estudio Física\n",
      "Yo estudio Química\n",
      "Yo estudio Historia\n",
      "Yo estudio Lengua\n"
     ]
    }
   ],
   "source": [
    "'''Ejercicio 2\n",
    "Escribir un programa que almacene las asignaturas de un curso \n",
    "(por ejemplo Matemáticas, Física, Química, Historia y Lengua) \n",
    "en una lista y la muestre por pantalla el mensaje Yo estudio <asignatura>, \n",
    "donde <asignatura> es cada una de las asignaturas de la lista.'''\n",
    "\n",
    "print(f'Yo estudio {asignaturas[0]}')\n",
    "print(f'Yo estudio {asignaturas[1]}')\n",
    "print(f'Yo estudio {asignaturas[2]}')\n",
    "print(f'Yo estudio {asignaturas[3]}')\n",
    "print(f'Yo estudio {asignaturas[-1]}')"
   ]
  },
  {
   "cell_type": "code",
   "execution_count": 7,
   "metadata": {},
   "outputs": [
    {
     "name": "stdout",
     "output_type": "stream",
     "text": [
      "Yo estudio Matemáticas\n",
      "Yo estudio Física\n",
      "Yo estudio Química\n",
      "Yo estudio Historia\n",
      "Yo estudio Lengua\n"
     ]
    }
   ],
   "source": [
    "for asignatura in asignaturas:\n",
    "    print(f'Yo estudio {asignatura}.')"
   ]
  },
  {
   "cell_type": "code",
   "execution_count": 5,
   "metadata": {},
   "outputs": [
    {
     "name": "stdout",
     "output_type": "stream",
     "text": [
      "En Matemáticas has sacado 10\n",
      "Calificacion no valida.\n",
      "En Química has sacado 10\n",
      "En Historia has sacado 9\n",
      "En Lengua has sacado 8\n"
     ]
    }
   ],
   "source": [
    "''' \n",
    "Ejercicio 3\n",
    "Escribir un programa que almacene las asignaturas de un curso (por ejemplo Matemáticas, Física, Química, Historia y Lengua) en una lista,\n",
    "pregunte al usuario la nota que ha sacado en cada asignatura, y después las muestre por pantalla con el mensaje \n",
    "En <asignatura> has sacado <nota> donde <asignatura> es cada una des las asignaturas de la lista y <nota> cada una de las correspondientes notas introducidas por el usuario.\n",
    "'''\n",
    "asignaturas = ['Matemáticas', 'Física', 'Química', 'Historia', 'Lengua']\n",
    "\n",
    "calificacion = []\n",
    "\n",
    "for n in asignaturas:\n",
    "    notas = int(input(f'Escribe tu calificación de {n}: '))\n",
    "    if notas >= 6 and notas <= 10:\n",
    "        calificacion.append(notas)\n",
    "        print(f'En {n} has sacado {notas}')\n",
    "    else: \n",
    "        print('Calificacion no valida.')"
   ]
  },
  {
   "cell_type": "code",
   "execution_count": 15,
   "metadata": {},
   "outputs": [
    {
     "name": "stdout",
     "output_type": "stream",
     "text": [
      "Los numeros ganadores de la loteria primitiva son:\n",
      "['2', '4', '56', '76', '89']\n"
     ]
    }
   ],
   "source": [
    "''' \n",
    "Ejercicio 4\n",
    "Escribir un programa que pregunte al usuario los números ganadores de la lotería primitiva, \n",
    "los almacene en una lista y los muestre por pantalla ordenados de menor a mayor.\n",
    "'''\n",
    "\n",
    "win_list = []\n",
    "\n",
    "key = 'exit'\n",
    "\n",
    "while True:\n",
    "    win_num = input('Escribe el numero ganador o (exit) para salir: ')\n",
    "    if win_num == key:\n",
    "        break\n",
    "    win_list.append(win_num)\n",
    "\n",
    "win_list.sort()\n",
    "print('Los numeros ganadores de la loteria primitiva son:')\n",
    "print(win_list)"
   ]
  },
  {
   "cell_type": "code",
   "execution_count": 19,
   "metadata": {},
   "outputs": [
    {
     "name": "stdout",
     "output_type": "stream",
     "text": [
      "[10, 9, 8, 7, 6, 5, 4, 3, 2, 1]\n"
     ]
    }
   ],
   "source": [
    "''' \n",
    "Ejercicio 5\n",
    "Escribir un programa que almacene en una lista los números del 1 al 10 \n",
    "y los muestre por pantalla en orden inverso separados por comas.\n",
    "'''\n",
    "contador = 0\n",
    "\n",
    "num_list = []\n",
    "\n",
    "while contador <= 10:\n",
    "    contador += 1\n",
    "    if contador == 11:\n",
    "        break\n",
    "    num_list.append(contador)\n",
    "    \n",
    "num_list.reverse()\n",
    "print(num_list)"
   ]
  },
  {
   "cell_type": "code",
   "execution_count": 8,
   "metadata": {},
   "outputs": [
    {
     "name": "stdout",
     "output_type": "stream",
     "text": [
      "Tienes quw repetir ['Historia', 'Lengua'].\n"
     ]
    }
   ],
   "source": [
    "''' \n",
    "Ejercicio 6\n",
    "Escribir un programa que almacene las asignaturas de un curso (por ejemplo Matemáticas, Física, Química, Historia y Lengua) en una lista, \n",
    "pregunte al usuario la nota que ha sacado en cada asignatura y elimine de la lista las asignaturas aprobadas. \n",
    "Al final el programa debe mostrar por pantalla las asignaturas que el usuario tiene que repetir.\n",
    "'''\n",
    "materias = ['Matemáticas', 'Física', 'Química', 'Historia', 'Lengua']\n",
    "\n",
    "aprobadas = []\n",
    "\n",
    "for n in materias:\n",
    "    notas = float(input(f'Escribe tu calificación de {n}: '))\n",
    "    if notas > 6:\n",
    "        aprobadas.append(n)\n",
    "for n in aprobadas:\n",
    "    materias.remove(n)\n",
    "print(f'Tienes que repetir {materias}.')"
   ]
  },
  {
   "cell_type": "code",
   "execution_count": 17,
   "metadata": {},
   "outputs": [
    {
     "name": "stdout",
     "output_type": "stream",
     "text": [
      "['a', 'b', 'd', 'e', 'g', 'h', 'j', 'k', 'm', 'n', 'p', 'q', 's', 't', 'v', 'w', 'y', 'z']\n"
     ]
    }
   ],
   "source": [
    "'''\n",
    "Ejercicio 7\n",
    "Escribir un programa que almacene el abecedario en una lista, \n",
    "elimine de la lista las letras que ocupen posiciones múltiplos de 3, \n",
    "y muestre por pantalla la lista resultante.\n",
    "'''\n",
    "alpha = ['a', 'b', 'c', 'd', 'e', 'f', 'g', 'h', 'i', 'j', 'k', 'l', 'm', 'n', 'o', 'p', 'q', 'r', 's', 't', 'u', 'v', 'w', 'x', 'y', 'z']\n",
    "\n",
    "for i in range(len(alpha), 1, -1): #usamos len para indicar el indice, que termine en el 1 y salte de uno en uno desde el final\n",
    "  if i % 3 == 0: # calculamos los multiplos de 3\n",
    "    alpha.pop(i-1) # se eliminan los elementos del ultimo al primero de la iteracion con i\n",
    "print(alpha)"
   ]
  },
  {
   "cell_type": "code",
   "execution_count": 25,
   "metadata": {},
   "outputs": [
    {
     "name": "stdout",
     "output_type": "stream",
     "text": [
      "ana es un políndromo\n"
     ]
    }
   ],
   "source": [
    "''' \n",
    "Ejercicio 8\n",
    "Escribir un programa que pida al usuario una palabra y muestre por pantalla si es un palíndromo.\n",
    "'''\n",
    "palabra = input('Escribe una palabra: ').lower()\n",
    "palabra_sin_espacios = palabra.replace(' ', '') # se eliminan los espacios vacios\n",
    "\n",
    "if palabra_sin_espacios == palabra_sin_espacios[::-1]:\n",
    "    print(f'{palabra} es un políndromo')\n",
    "else:\n",
    "    print(f'{palabra} no es un políndromo')\n"
   ]
  },
  {
   "cell_type": "code",
   "execution_count": 29,
   "metadata": {},
   "outputs": [
    {
     "name": "stdout",
     "output_type": "stream",
     "text": [
      "['a', 'n', 'a']\n",
      "['a', 'n', 'a']\n",
      "Es un políndromo\n"
     ]
    }
   ],
   "source": [
    "# Solicion con listas y metodo reverse()\n",
    "palabra_reves = palabra # se declara la variable al reves\n",
    "palabra = list(palabra) # se convierte en lista \n",
    "palabra_reves = list(palabra_reves) # tambien la palabra que ira al reves\n",
    "palabra_reves.reverse() # se usa el metodo reverse para revertir el orden \n",
    "print(palabra)\n",
    "print(palabra_reves)\n",
    "\n",
    "if palabra == palabra_reves:\n",
    "    print('Es un políndromo')\n",
    "else:\n",
    "    print('No es un políndromo')\n"
   ]
  },
  {
   "cell_type": "code",
   "execution_count": 9,
   "metadata": {},
   "outputs": [
    {
     "name": "stdout",
     "output_type": "stream",
     "text": [
      "La vocal \"a\" en la palabra \"diccionario\" aparece 1 veces.\n",
      "La vocal \"e\" en la palabra \"diccionario\" aparece 0 veces.\n",
      "La vocal \"i\" en la palabra \"diccionario\" aparece 3 veces.\n",
      "La vocal \"o\" en la palabra \"diccionario\" aparece 2 veces.\n",
      "La vocal \"u\" en la palabra \"diccionario\" aparece 0 veces.\n"
     ]
    }
   ],
   "source": [
    "''' \n",
    "Ejercicio 9\n",
    "Escribir un programa que pida al usuario una palabra y \n",
    "muestre por pantalla el número de veces que contiene cada vocal.\n",
    "'''\n",
    "palabra = input('Escribe una palabra: ').lower()\n",
    "\n",
    "a = palabra.count('a')\n",
    "e = palabra.count('e')\n",
    "i = palabra.count('i') \n",
    "o = palabra.count('o')\n",
    "u = palabra.count('u')\n",
    "\n",
    "print(f'La vocal \"a\" en la palabra \"{palabra}\" aparece {a} veces.')\n",
    "print(f'La vocal \"e\" en la palabra \"{palabra}\" aparece {e} veces.')\n",
    "print(f'La vocal \"i\" en la palabra \"{palabra}\" aparece {i} veces.')\n",
    "print(f'La vocal \"o\" en la palabra \"{palabra}\" aparece {o} veces.')\n",
    "print(f'La vocal \"u\" en la palabra \"{palabra}\" aparece {u} veces.')"
   ]
  },
  {
   "cell_type": "code",
   "execution_count": 6,
   "metadata": {},
   "outputs": [
    {
     "name": "stdout",
     "output_type": "stream",
     "text": [
      "La vocal \"a\" en la palabra \"marco aurelio\" aparece 2 veces.\n",
      "La vocal \"e\" en la palabra \"marco aurelio\" aparece 1 veces.\n",
      "La vocal \"i\" en la palabra \"marco aurelio\" aparece 1 veces.\n",
      "La vocal \"o\" en la palabra \"marco aurelio\" aparece 2 veces.\n",
      "La vocal \"u\" en la palabra \"marco aurelio\" aparece 1 veces.\n"
     ]
    }
   ],
   "source": [
    "palabra = input('Escribe una palabra: ').lower()\n",
    "vocales = ['a', 'e', 'i', 'o', 'u']\n",
    "\n",
    "for vocal in vocales:\n",
    "    cont = 0\n",
    "    for letra in palabra:\n",
    "        if letra == vocal:\n",
    "            cont += 1\n",
    "    print(f'La vocal \"{vocal}\" en la palabra \"{palabra}\" aparece {str(cont)} veces.')"
   ]
  },
  {
   "cell_type": "code",
   "execution_count": 10,
   "metadata": {},
   "outputs": [
    {
     "name": "stdout",
     "output_type": "stream",
     "text": [
      "El precio más alto es 80\n"
     ]
    }
   ],
   "source": [
    "''' \n",
    "Ejercicio 10\n",
    "Escribir un programa que almacene en una lista los siguientes precios, 50, 75, 46, 22, 80, 65, 8, y muestre por pantalla el menor y el mayor de los precios.\n",
    "'''\n",
    "precios = [50, 75, 46, 22, 80, 65, 8]\n",
    "mayor = max(precios)\n",
    "print(f'El precio más alto es {mayor}.')"
   ]
  },
  {
   "cell_type": "code",
   "execution_count": 13,
   "metadata": {},
   "outputs": [
    {
     "data": {
      "text/plain": [
       "5"
      ]
     },
     "execution_count": 13,
     "metadata": {},
     "output_type": "execute_result"
    }
   ],
   "source": [
    "''' \n",
    "Ejercicio 11\n",
    "Escribir un programa que almacene los vectores (1,2,3) y (-1,0,2) en dos listas y muestre por pantalla su producto escalar.\n",
    "'''\n",
    "u = [1,2,3]\n",
    "v = [-1,0,2]\n",
    "\n",
    "resultado = []\n",
    "\n",
    "for x,y in zip(u,v):# iteracion de las dos listas\n",
    "    resultado.append(x * y)# los productos se almacenan en una nueva lista\n",
    "sum(resultado) #sum suma los elementos de la lista"
   ]
  },
  {
   "cell_type": "code",
   "execution_count": 1,
   "metadata": {},
   "outputs": [
    {
     "name": "stdout",
     "output_type": "stream",
     "text": [
      "El producto de los vectores(1, 2, 3) y (-1, 0, 2) es 5\n"
     ]
    }
   ],
   "source": [
    "# solucion opcion usuario\n",
    "\n",
    "a = (1, 2, 3)\n",
    "b = (-1, 0, 2)\n",
    "product = 0\n",
    "for i in range(len(a)):\n",
    "    product += a[i]*b[i]\n",
    "print(\"El producto de los vectores\" + str(a) + \" y \" + str(b) + \" es \" + str(product)) \n"
   ]
  },
  {
   "cell_type": "code",
   "execution_count": 16,
   "metadata": {},
   "outputs": [
    {
     "name": "stdout",
     "output_type": "stream",
     "text": [
      "[('Ana', 'Alvarez'), ('Rosa', 'Rosales'), ('Ofelia', 'Fernandez')]\n"
     ]
    }
   ],
   "source": [
    "# funcion de zip()\n",
    "\n",
    "nombres = ['Ana', 'Rosa', 'Ofelia']\n",
    "apellidos = ['Alvarez', 'Rosales', 'Fernandez']\n",
    "\n",
    "nombre_completo = []\n",
    "\n",
    "for i in zip(nombres, apellidos):\n",
    "    nombre_completo.append(i)\n",
    "print(nombre_completo)"
   ]
  },
  {
   "cell_type": "code",
   "execution_count": 5,
   "metadata": {},
   "outputs": [
    {
     "name": "stdout",
     "output_type": "stream",
     "text": [
      "[-1, 0, [0, 1, [1, 1], 0, 1, [1, 1], 0, 1, [1, 1]]]\n"
     ]
    }
   ],
   "source": [
    "'''\n",
    "Ejercicio 12\n",
    "Escribir un programa que almacene las matrices en una lista y muestre por pantalla su producto.\n",
    "Nota: Para representar matrices mediante listas usar listas anidadas, representando cada vector fila en una lista.\n",
    "'''\n",
    "A = [1, 2, 3, 4, [4, 5, 6]]\n",
    "B = [-1, 0, [0,1, [1,1]]]\n",
    "\n",
    "total = []\n",
    "\n",
    "for a,b in zip(A,B):\n",
    "    total.append(a * b)\n",
    "print(total)"
   ]
  },
  {
   "cell_type": "code",
   "execution_count": null,
   "metadata": {},
   "outputs": [],
   "source": [
    "a = ((1, 2, 3),\n",
    "     (4, 5, 6))\n",
    "b = ((-1, 0),\n",
    "     (0, 1),\n",
    "     (1,1))\n",
    "result = [[0,0],\n",
    "          [0,0]]\n",
    "for i in range(len(a)):\n",
    "    for j in range(len(b[0])):\n",
    "        for k in range(len(b)):\n",
    "            result[i][j] += a[i][k] * b[k][j]\n",
    "for i in range(len(result)):\n",
    "    result[i] = tuple(result[i])\n",
    "result = tuple(result)\n",
    "for i in range(len(result)):\n",
    "    print(result[i])"
   ]
  },
  {
   "cell_type": "code",
   "execution_count": 5,
   "metadata": {},
   "outputs": [
    {
     "name": "stdout",
     "output_type": "stream",
     "text": [
      "Tamaño de la lista: [1, 2, 3, 4, 5, 6, 7, 8, 9]\n",
      "La media de la lista es: 5.0.\n"
     ]
    }
   ],
   "source": [
    "''' \n",
    "Ejercicio 13\n",
    "Escribir un programa que pregunte por una muestra de números, separados por comas, los guarde en una lista y muestre por pantalla su media y desviación típica.\n",
    "'''\n",
    "# muestra de numeros\n",
    "lista_numeros = []\n",
    "\n",
    "valores = int(input('Ingrese valor o escribe 0 para finalizar: '))\n",
    "\n",
    "while valores != 0:\n",
    "    lista_numeros.append(valores)\n",
    "    valores = int(input('Ingrese valor o escribe 0 para finalizar: '))\n",
    "\n",
    "print(f'Tamaño de la lista: {lista_numeros}')\n",
    "\n",
    "# mean o promeido\n",
    "suma = 0\n",
    "for num in lista_numeros:\n",
    "    suma += num  \n",
    "media = suma / len(lista_numeros)\n",
    "print(f'La media de la lista es: {media}')"
   ]
  },
  {
   "cell_type": "code",
   "execution_count": 10,
   "metadata": {},
   "outputs": [
    {
     "name": "stdout",
     "output_type": "stream",
     "text": [
      "Tamaño de la lista: [1, 2, 3, 4, 5]\n",
      "El promedio de la lista es: 3\n",
      "La varianza de la lista es: 2.5\n",
      "La desviacion tipica de la muestra es: 1.6770509831248424\n"
     ]
    }
   ],
   "source": [
    "# utilizando la libreria statistics\n",
    "import statistics\n",
    "\n",
    "# muestra de numeros\n",
    "lista_numeros = []\n",
    "\n",
    "valores = int(input('Ingrese valor o escribe 0 para finalizar: '))\n",
    "\n",
    "while valores != 0:\n",
    "    lista_numeros.append(valores)\n",
    "    valores = int(input('Ingrese valor o escribe 0 para finalizar: '))\n",
    "print(f'Tamaño de la lista: {lista_numeros}')\n",
    "\n",
    "# mean o promeido\n",
    "promedio = statistics.mean(lista_numeros)\n",
    "print(f'El promedio de la lista es: {promedio}')\n",
    "\n",
    "# varianza\n",
    "vari = statistics.variance(lista_numeros, promedio)\n",
    "print(f'La varianza de la lista es: {vari}')\n",
    "\n",
    "# desviacion tipica\n",
    "desv_tipica = statistics.stdev(lista_numeros, vari)\n",
    "print(f'La desviacion tipica de la muestra es: {desv_tipica}')"
   ]
  },
  {
   "cell_type": "code",
   "execution_count": 5,
   "metadata": {},
   "outputs": [
    {
     "name": "stdout",
     "output_type": "stream",
     "text": [
      "Tamaño de la lista: [1, 2, 3, 4, 5]\n",
      "La media de la lista es: 3.0\n",
      "La varianza es de: 2.5\n",
      "La desviacion estandar es de: 1.5811388300841898\n"
     ]
    }
   ],
   "source": [
    "# Utilizando funciones de la libreria numpy\n",
    "import numpy as np\n",
    " \n",
    "# muestra de numeros\n",
    "lista_numeros = []\n",
    "\n",
    "valores = int(input('Ingrese valor o escribe 0 para finalizar: '))\n",
    "\n",
    "while valores != 0:\n",
    "    lista_numeros.append(valores)\n",
    "    valores = int(input('Ingrese valor o escribe 0 para finalizar: '))\n",
    "print(f'Tamaño de la lista: {lista_numeros}')\n",
    "\n",
    "# mean o promeido\n",
    "media = np.mean(lista_numeros)\n",
    "print(f'La media de la lista es: {media}')\n",
    "\n",
    "# varianza\n",
    "varianza = np.var(lista_numeros, ddof= 1)\n",
    "print(f'La varianza es de: {varianza}')\n",
    "\n",
    "# desviacion estandar o desviacion tipica\n",
    "desv_estandar = np.sqrt(varianza)\n",
    "print(f'La desviacion estandar es de: {desv_estandar}')"
   ]
  }
 ],
 "metadata": {
  "kernelspec": {
   "display_name": "challenge2024",
   "language": "python",
   "name": "python3"
  },
  "language_info": {
   "codemirror_mode": {
    "name": "ipython",
    "version": 3
   },
   "file_extension": ".py",
   "mimetype": "text/x-python",
   "name": "python",
   "nbconvert_exporter": "python",
   "pygments_lexer": "ipython3",
   "version": "3.10.14"
  }
 },
 "nbformat": 4,
 "nbformat_minor": 2
}
