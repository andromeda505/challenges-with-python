{
 "cells": [
  {
   "cell_type": "code",
   "execution_count": null,
   "metadata": {},
   "outputs": [],
   "source": [
    "'''\n",
    "Ejercicio 1\n",
    "Escribir un programa que pida al usuario una palabra y la muestre por pantalla 10 veces.\n",
    "'''\n",
    "word = input('Escribe una palabra: ').lower()\n",
    "\n",
    "for elemento in range(10):\n",
    "    print(word, end=',')"
   ]
  },
  {
   "cell_type": "code",
   "execution_count": null,
   "metadata": {},
   "outputs": [],
   "source": [
    "'''\n",
    "Ejercicio 2\n",
    "Escribir un programa que pregunte al usuario su edad y muestre por pantalla todos los años que ha cumplido (desde 1 hasta su edad).\n",
    "'''\n",
    "\n",
    "edad = int(input('¿Qué edad tienes? '))\n",
    "\n",
    "for x in range(1, edad + 1):\n",
    "    edad -= 1\n",
    "    print(f'Has cumplido {x} año(s)')   "
   ]
  },
  {
   "cell_type": "code",
   "execution_count": null,
   "metadata": {},
   "outputs": [],
   "source": [
    "'''\n",
    "Ejercicio 3\n",
    "Escribir un programa que pida al usuario un número entero positivo y muestre por pantalla todos los números impares desde 1 hasta ese número separados por comas.\n",
    "'''\n",
    "\n",
    "numero = int(input('Digita un numero entero '))\n",
    "\n",
    "# el tercer elemento (2) saltara dos unidades \n",
    "# range(inicio, fin, salto)\n",
    "for x in range(1, numero + 1, 2): \n",
    "    print(x, end=',')"
   ]
  },
  {
   "cell_type": "code",
   "execution_count": null,
   "metadata": {},
   "outputs": [],
   "source": [
    "'''\n",
    "Ejercicio 4\n",
    "Escribir un programa que pida al usuario un número entero positivo y muestre por pantalla la cuenta atrás desde ese número hasta cero separados por comas.\n",
    "'''\n",
    "num = int(input('Digita un numero entero '))\n",
    "\n",
    "# Se pueden generar también secuencias inversas, (de mayor a uno menor)\n",
    "# pero para ello el salto deberá ser negativo (-1, -2, etc.)\n",
    "for x in range(num, 0, -1): \n",
    "    print(x, end=',')"
   ]
  },
  {
   "cell_type": "code",
   "execution_count": null,
   "metadata": {},
   "outputs": [],
   "source": [
    "''' \n",
    "Ejercicio 5\n",
    "Escribir un programa que pregunte al usuario una cantidad a invertir, el interés anual y el número de años,\n",
    "y muestre por pantalla el capital obtenido en la inversión cada año que dura la inversión.\n",
    "'''\n",
    "\n",
    "cant_inic = float(input('Ingresa una cantidad a invertir: '))\n",
    "interes_anual = float(input('Ingresa el interes anual a calcular: '))\n",
    "years = int(input('Ingresa el plazo a invertir en años: '))\n",
    "\n",
    "total = cant_inic\n",
    "\n",
    "# Calcular los rendimientos \n",
    "\n",
    "for i in range(years):\n",
    "    total *= 1 + interes_anual / 100\n",
    "    print(f'El interes obtenido de ${cant_inic} a una tasa del {interes_anual}% en {i + 1} año(s) será de ${round(total,2)}')"
   ]
  },
  {
   "cell_type": "code",
   "execution_count": null,
   "metadata": {},
   "outputs": [],
   "source": [
    "''' \n",
    "Ejercicio 6\n",
    "Escribir un programa que pida al usuario un número entero y muestre por pantalla un triángulo rectángulo como el de más abajo, de altura el número introducido.\n",
    "*\n",
    "**\n",
    "***\n",
    "****\n",
    "*****\n",
    "'''\n",
    "number = int(input('Digita un numero entero '))\n",
    "\n",
    "for i in range(number + 1):\n",
    "    print('*' * i, sep='')"
   ]
  },
  {
   "cell_type": "code",
   "execution_count": null,
   "metadata": {},
   "outputs": [],
   "source": [
    "'''\n",
    "Ejercicio 7\n",
    "Escribir un programa que muestre por pantalla la tabla de multiplicar del 1 al 10.\n",
    "'''\n",
    "\n",
    "valor = int(input('¿Qué tabla de multiplicar quieres calcular? '))\n",
    "\n",
    "for x in range(1, 11):\n",
    "    print(f'{valor} * {x} = {x * valor}')"
   ]
  },
  {
   "cell_type": "code",
   "execution_count": null,
   "metadata": {},
   "outputs": [],
   "source": [
    "# Mostrar un tabla con todos los resultados de las tablas de multiplicar\n",
    "\n",
    "for x in range(1, 11):\n",
    "    for y in range(1, 11):\n",
    "        print(x * y, end='\\t')\n",
    "    print('')"
   ]
  },
  {
   "cell_type": "code",
   "execution_count": null,
   "metadata": {},
   "outputs": [],
   "source": [
    "''' \n",
    "Ejercicio 8\n",
    "Escribir un programa que pida al usuario un número entero y muestre por pantalla un triángulo rectángulo como el de más abajo.\n",
    "1\n",
    "3 1\n",
    "5 3 1\n",
    "7 5 3 1\n",
    "9 7 5 3 1\n",
    "'''\n",
    "\n",
    "num_ent = int(input('Digita un numero entero '))\n",
    "\n",
    "for i in range( 1, num_ent + 1, 2):\n",
    "    print('')\n",
    "    for j in range( i, 0, -2):\n",
    "        print(j, end=' ')"
   ]
  },
  {
   "cell_type": "code",
   "execution_count": 87,
   "metadata": {},
   "outputs": [],
   "source": [
    "''' \n",
    "Ejercicio 9\n",
    "Escribir un programa que almacene la cadena de caracteres contraseña en una variable, pregunte al usuario por la contraseña hasta que introduzca la contraseña correcta.\n",
    "'''\n",
    "key = 'pass'\n",
    "\n",
    "while True:\n",
    "    password = input('Introduce la contraseña: ')\n",
    "    if password == key:\n",
    "        break\n",
    "    print('Contraseña correcta.')"
   ]
  },
  {
   "cell_type": "code",
   "execution_count": null,
   "metadata": {},
   "outputs": [],
   "source": [
    "''' \n",
    "Ejercicio 10\n",
    "Escribir un programa que pida al usuario un número entero y muestre por pantalla si es un número primo o no.\n",
    "'''\n",
    "digito = int(input('Digita un numero entero '))\n",
    "\n",
    "if digito > 1:\n",
    "    if digito % 2 != 0:\n",
    "        print('Es un numero primo.') \n",
    "    else:\n",
    "        print('No es un numero primo.')\n",
    "else:\n",
    "    print('No es un numero primo.')"
   ]
  },
  {
   "cell_type": "code",
   "execution_count": 105,
   "metadata": {},
   "outputs": [],
   "source": [
    "n = int(input(\"Introduce un número entero positivo mayor que 2: \"))\n",
    "\n",
    "for i in range(2, n):\n",
    "    if n % 2 != 0:\n",
    "        print(str(n) + \" es primo\")\n",
    "    else:\n",
    "        print(str(n) + \" no es primo\")"
   ]
  },
  {
   "cell_type": "code",
   "execution_count": null,
   "metadata": {},
   "outputs": [],
   "source": [
    "''' \n",
    "Ejercicio 11\n",
    "Escribir un programa que pida al usuario una palabra y luego muestre por pantalla una a una las letras de la palabra introducida empezando por la última.\n",
    "'''\n",
    "palabra = input('Escribe tu palabra favorita: ').upper()\n",
    "\n",
    "for i in palabra[::-1]:\n",
    "    print(i, end=' ')"
   ]
  },
  {
   "cell_type": "code",
   "execution_count": null,
   "metadata": {},
   "outputs": [],
   "source": [
    "''' \n",
    "Ejercicio 12\n",
    "Escribir un programa en el que se pregunte al usuario por una frase y una letra, y muestre por pantalla el número de veces que aparece la letra en la frase.\n",
    "'''\n",
    "frase = input('Escribe una frase: ').lower()\n",
    "letra = input('Escribe una letra del alfabeto: ').lower()\n",
    "\n",
    "cont = 0\n",
    "\n",
    "for l in frase:\n",
    "    if letra == l:\n",
    "        cont += 1\n",
    "\n",
    "# la identacion de l print lo sacamos del bucle para que no itere tantas veces\n",
    "# es decir solo imprima la frase una vez con la cantidad de veces que aparece la letra\n",
    "\n",
    "print(f'La letra \"{l}\" aparecce {cont} veces.') "
   ]
  },
  {
   "cell_type": "code",
   "execution_count": null,
   "metadata": {},
   "outputs": [],
   "source": [
    "''' \n",
    "Ejercicio 13\n",
    "Escribir un programa que muestre el eco de todo lo que el usuario introduzca hasta que el usuario escriba “salir” que terminará.\n",
    "'''\n",
    "pas = 'salir'\n",
    "\n",
    "while True:\n",
    "    cadena = input('Escribe lo que quieras: ')\n",
    "    if cadena == pas:\n",
    "        break \n",
    "    print(cadena)"
   ]
  }
 ],
 "metadata": {
  "kernelspec": {
   "display_name": "challenge2024",
   "language": "python",
   "name": "python3"
  },
  "language_info": {
   "codemirror_mode": {
    "name": "ipython",
    "version": 3
   },
   "file_extension": ".py",
   "mimetype": "text/x-python",
   "name": "python",
   "nbconvert_exporter": "python",
   "pygments_lexer": "ipython3",
   "version": "3.10.14"
  }
 },
 "nbformat": 4,
 "nbformat_minor": 2
}
