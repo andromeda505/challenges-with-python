{
 "cells": [
  {
   "cell_type": "markdown",
   "metadata": {},
   "source": [
    "### Ejercicios de Diccionarios"
   ]
  },
  {
   "cell_type": "code",
   "execution_count": 10,
   "metadata": {},
   "outputs": [
    {
     "name": "stdout",
     "output_type": "stream",
     "text": [
      "La divisa Peso no está en el diccionario.\n"
     ]
    }
   ],
   "source": [
    "'''Ejercicio 1\n",
    "Escribir un programa que guarde en una variable el diccionario {'Euro':'€', 'Dollar':'$', 'Yen':'¥'}, \n",
    "pregunte al usuario por una divisa y muestre su símbolo o un mensaje de aviso si la divisa no está en el diccionario.\n",
    "'''\n",
    "\n",
    "moneda = {\n",
    "    'Euro':'€', \n",
    "    'Dollar':'$', \n",
    "    'Yen':'¥'\n",
    "    }\n",
    "\n",
    "divisa = input('Escriba el nobre de una divisa: ').capitalize()\n",
    "\n",
    "if divisa in moneda:\n",
    "    print(moneda[divisa])\n",
    "else:\n",
    "    print(f'La divisa {divisa} no está en el diccionario.')"
   ]
  },
  {
   "cell_type": "code",
   "execution_count": 5,
   "metadata": {},
   "outputs": [
    {
     "name": "stdout",
     "output_type": "stream",
     "text": [
      "Mayte tiene 32 años, vive en 5ta de morelos y su número de teléfono es 56333687060\n"
     ]
    }
   ],
   "source": [
    "'''Ejercicio 2\n",
    "Escribir un programa que pregunte al usuario su nombre, edad, dirección y teléfono y lo guarde en un diccionario. \n",
    "Después debe mostrar por pantalla el mensaje <nombre> tiene <edad> años, vive en <dirección> y su número de teléfono es <teléfono>.\n",
    "'''\n",
    "info_user = {'nombre': '', \n",
    "             'edad': '',\n",
    "             'dirección': '',\n",
    "             'teléfono': ''\n",
    "             }\n",
    "\n",
    "nombre = input('¿Cuál es tu nombre? ').capitalize()\n",
    "edad = input('¿Cuál es tu edad? ')\n",
    "dirreccion = input('¿Cuál es tu dirección? ')\n",
    "telefono = input('¿Cuál es tu telefono? ')\n",
    "\n",
    "info_user['nombre'] = nombre\n",
    "info_user['edad'] = edad\n",
    "info_user['dirección'] = dirreccion\n",
    "info_user['teléfono'] = telefono\n",
    "\n",
    "\n",
    "print(f'{info_user[\"nombre\"]} tiene {info_user[\"edad\"]} años, vive en {info_user[\"dirección\"]} y su número de teléfono es {info_user[\"teléfono\"]}')"
   ]
  },
  {
   "cell_type": "code",
   "execution_count": 14,
   "metadata": {},
   "outputs": [
    {
     "name": "stdout",
     "output_type": "stream",
     "text": [
      "Mango no lo tenemos en nuestra canasta de frutas.\n"
     ]
    }
   ],
   "source": [
    "''' Ejercicio 3\n",
    "Escribir un programa que guarde en un diccionario los precios de las frutas de la tabla, \n",
    "pregunte al usuario por una fruta, un número de kilos y muestre por pantalla el precio de ese número de kilos de fruta. \n",
    "Si la fruta no está en el diccionario debe mostrar un mensaje informando de ello.\n",
    "\n",
    "Fruta\tPrecio\n",
    "Plátano\t1.35\n",
    "Manzana\t0.80\n",
    "Pera\t0.85\n",
    "Naranja\t0.70\n",
    "'''\n",
    "\n",
    "canasta = {\n",
    "    'Platano': 1.5,\n",
    "    'Manzana': 0.80,\n",
    "    'Pera': 0.85,\n",
    "    'Nsaranja': 0.70\n",
    "}\n",
    "\n",
    "fruta = input('¿Qué fruta desea: plátano, manzana, pera o naranja? ').capitalize()\n",
    "peso = int(input('¿Cuántos kilos desea adquirir? '))\n",
    "precio = 0\n",
    "\n",
    "if fruta in canasta:\n",
    "    precio = canasta[fruta] * peso\n",
    "    print(f'{peso} kilo(s) de {fruta} son {precio} euros.')\n",
    "else: \n",
    "    print(f'{fruta} no lo tenemos en nuestra canasta de frutas.')"
   ]
  },
  {
   "cell_type": "code",
   "execution_count": 3,
   "metadata": {},
   "outputs": [
    {
     "name": "stdout",
     "output_type": "stream",
     "text": [
      "La fecha es 02 de marzo de 1998\n",
      "['03', '04', '1994']\n"
     ]
    }
   ],
   "source": [
    "'''Ejercicio 4\n",
    "Escribir un programa que pregunte una fecha en formato dd/mm/aaaa y\n",
    "muestre por pantalla la misma fecha en formato dd de <mes> de aaaa donde <mes> es el nombre del mes.\n",
    "'''\n",
    "month = {\n",
    "    '01': 'enero',\n",
    "    '02': 'febrero',\n",
    "    '03': 'marzo',\n",
    "    '04': 'abril',\n",
    "    '05': 'mayo',\n",
    "    '06': 'junio',\n",
    "    '07': 'julio',\n",
    "    '08': 'agosto',\n",
    "    '09': 'septiembre',\n",
    "    '10': 'octubre',\n",
    "    '11': 'noviembre',\n",
    "    '12': 'diciembre'\n",
    "}\n",
    "\n",
    "dia = input('Introduce el día (dd): ')\n",
    "mes = input('Introduce el mes (mm): ')\n",
    "año = input('Introduce el año (aaaa): ')\n",
    "\n",
    "print(f'La fecha es {dia} de {month[mes]} de {año}')"
   ]
  },
  {
   "cell_type": "code",
   "execution_count": 5,
   "metadata": {},
   "outputs": [
    {
     "name": "stdout",
     "output_type": "stream",
     "text": [
      "La fecha es 16 de febrero de 1992\n"
     ]
    }
   ],
   "source": [
    "# con .split\n",
    "month = {\n",
    "    '01': 'enero',\n",
    "    '02': 'febrero',\n",
    "    '03': 'marzo',\n",
    "    '04': 'abril',\n",
    "    '05': 'mayo',\n",
    "    '06': 'junio',\n",
    "    '07': 'julio',\n",
    "    '08': 'agosto',\n",
    "    '09': 'septiembre',\n",
    "    '10': 'octubre',\n",
    "    '11': 'noviembre',\n",
    "    '12': 'diciembre'\n",
    "}\n",
    "\n",
    "fecha = input('Introduce una fecha con el siguiente formato dd/mm/aaa ')\n",
    "\n",
    "fecha_sep = fecha.split('/')\n",
    "#print(fecha_sep)\n",
    "# los argumentos se pasan con indices y metodos de la lista devuelta con .split\n",
    "print(f'La fecha es {fecha_sep[0]} de {month[fecha_sep[1]]} de {fecha_sep[2]}') "
   ]
  },
  {
   "cell_type": "code",
   "execution_count": 11,
   "metadata": {},
   "outputs": [
    {
     "name": "stdout",
     "output_type": "stream",
     "text": [
      "La asignatura de Matemáticas tiene 6 créditos.\n",
      "La asignatura de Física tiene 4 créditos.\n",
      "La asignatura de Química tiene 5 créditos.\n",
      "El total de créditos es de 15 créditos.\n"
     ]
    }
   ],
   "source": [
    "''' Ejercicio 5\n",
    "Escribir un programa que almacene el diccionario con los créditos de las asignaturas de un curso \n",
    "{'Matemáticas': 6, 'Física': 4, 'Química': 5} \n",
    "y después muestre por pantalla los créditos de cada asignatura en el formato <asignatura> tiene <créditos> créditos, \n",
    "donde <asignatura> es cada una de las asignaturas del curso, y <créditos> son sus créditos. \n",
    "Al final debe mostrar también el número total de créditos del curso.\n",
    "'''\n",
    "creditos = {\n",
    "    'Matemáticas': 6, \n",
    "    'Física': 4, \n",
    "    'Química': 5\n",
    "    } \n",
    "\n",
    "total = 0\n",
    "\n",
    "for x, y in creditos.items():\n",
    "    print(f'La asignatura de {x} tiene {y} créditos.')\n",
    "    total += y\n",
    "\n",
    "print(f'El total de créditos es de {total} créditos.')"
   ]
  },
  {
   "cell_type": "code",
   "execution_count": 13,
   "metadata": {},
   "outputs": [
    {
     "name": "stdout",
     "output_type": "stream",
     "text": [
      "{'nombre': 'Mayte', 'edad': '32', 'genero': 'mujer', 'telefono': '5633687060', 'correo': 'emakbakia369@gmail.com'}\n"
     ]
    }
   ],
   "source": [
    "''' Ejercicio 6\n",
    "Escribir un programa que cree un diccionario vacío y lo vaya llenado con información sobre una persona \n",
    "(por ejemplo nombre, edad, sexo, teléfono, correo electrónico, etc.) que se le pida al usuario. \n",
    "Cada vez que se añada un nuevo dato debe imprimirse el contenido del diccionario.\n",
    "'''\n",
    "data = {}\n",
    "\n",
    "name = input('¿Cuál es su nombre? ').title()\n",
    "age = input('¿Cuál es su edad? ')\n",
    "sexo = input('¿Cuál es su genero? ')\n",
    "phone_num = input('¿Cuál es su número de teléfono? ')\n",
    "email = input('¿cuál es su correo electrónico? ')\n",
    "\n",
    "data['nombre'] = name\n",
    "data['edad'] = age\n",
    "data['genero'] = sexo\n",
    "data['telefono'] = phone_num\n",
    "data['correo'] = email\n",
    "print(data)"
   ]
  },
  {
   "cell_type": "code",
   "execution_count": null,
   "metadata": {},
   "outputs": [],
   "source": [
    "# resolucion propuesta\n",
    "persona = {}\n",
    "continuar = True\n",
    "while continuar:\n",
    "    clave = input('¿Qué dato quieres introducir? ')\n",
    "    valor = input(clave + ': ')\n",
    "    persona[clave] = valor\n",
    "    print(persona)\n",
    "    continuar = input('¿Quieres añadir más información (Si/No)? ') == \"Si\""
   ]
  },
  {
   "cell_type": "code",
   "execution_count": 14,
   "metadata": {},
   "outputs": [
    {
     "name": "stdout",
     "output_type": "stream",
     "text": [
      "{'nombre': 'mayte'}\n",
      "{'nombre': 'mayte', 'edad': '32'}\n",
      "{'nombre': 'mayte', 'edad': '32', 'sexo': 'mujer'}\n"
     ]
    }
   ],
   "source": [
    "datos = {}\n",
    "\n",
    "salir =  'no'\n",
    "\n",
    "while True:\n",
    "    clave = input('¿Qué dato quieres agregar? ')\n",
    "    valor = input(f'{clave}: ')\n",
    "    \n",
    "    datos[clave] = valor\n",
    "    print(datos)\n",
    "    \n",
    "    continuar = input('¿Desea continuar agregando más informacion? Escriba si/no: ')\n",
    "    \n",
    "    if  continuar == salir:\n",
    "        break"
   ]
  },
  {
   "cell_type": "code",
   "execution_count": 7,
   "metadata": {},
   "outputs": [
    {
     "name": "stdout",
     "output_type": "stream",
     "text": [
      "Lista de la compra\n",
      "*lehce   $40\n",
      "*huevo   $89\n",
      "*harina   $58\n",
      "Total:  $187\n"
     ]
    }
   ],
   "source": [
    "''' Ejercicio 7\n",
    "Escribir un programa que cree un diccionario simulando una cesta de la compra. \n",
    "El programa debe preguntar el artículo y su precio y añadir el par al diccionario, hasta que el usuario decida terminar. \n",
    "Después se debe mostrar por pantalla la lista de la compra y el coste total, con el siguiente formato\n",
    "Lista de la compra\t\n",
    "Artículo 1\tPrecio\n",
    "Artículo 2\tPrecio\n",
    "Artículo 3\tPrecio\n",
    "…\t        …\n",
    "Total\t    Coste'''\n",
    "\n",
    "carrito = {}\n",
    "\n",
    "salir =  'no'\n",
    "\n",
    "coste_total = 0\n",
    "\n",
    "while True:\n",
    "    producto = input('¿Qué artículo quieres agregar?: ')\n",
    "    precio = int(input(f'¿Cuál es el precio de {producto}?: '))\n",
    "    \n",
    "    carrito[producto] = precio\n",
    "    \n",
    "    continuar = input('¿Desea continuar agregando más artículos? Escriba si/no: ')\n",
    "    \n",
    "    if  continuar == salir:\n",
    "        break\n",
    "\n",
    "print('Lista de la compra')\n",
    "\n",
    "for i,j in carrito.items():\n",
    "    coste_total += j\n",
    "    print(f'*{i}   ${j}')\n",
    "\n",
    "print(f'Total:   ${coste_total}')"
   ]
  },
  {
   "cell_type": "code",
   "execution_count": 33,
   "metadata": {},
   "outputs": [
    {
     "name": "stdout",
     "output_type": "stream",
     "text": [
      "{'mesa': 'table', 'pajaro': 'bird', 'arroz': 'rice', 'comer': 'eat'}\n",
      "['el', 'pajaro', 'come', 'arroz', 'en', 'la', 'mesa']\n",
      "el bird come rice en la table "
     ]
    }
   ],
   "source": [
    "'''Ejercicio 8\n",
    "Escribir un programa que cree un diccionario de traducción español-inglés. \n",
    "El usuario introducirá las palabras en español e inglés separadas por dos puntos, y cada par <palabra>:<traducción> separados por comas. \n",
    "El programa debe crear un diccionario con las palabras y sus traducciones. \n",
    "Después pedirá una frase en español y utilizará el diccionario para traducirla palabra a palabra.\n",
    "Si una palabra no está en el diccionario debe dejarla sin traducir.'''\n",
    "\n",
    "dic = {}\n",
    "\n",
    "salir =  'no'\n",
    "\n",
    "while True:\n",
    "    spanish = input('¿Qué palabra en español quieres agregar al diccionario?: ')\n",
    "    english = input(f'¿Cuál es su traducción al inglés {spanish}?: ')\n",
    "    \n",
    "    dic[spanish] = english\n",
    "    \n",
    "    continuar = input('¿Desea continuar agregando más palabras? Escriba si/no: ')\n",
    "    \n",
    "    if  continuar == salir:\n",
    "        break\n",
    "print(dic)\n",
    "\n",
    "sentence = input('Escribe una frase en español: ')\n",
    "\n",
    "sentence = sentence.split()\n",
    "\n",
    "print(sentence)\n",
    "\n",
    "for word in sentence:\n",
    "    if word in dic:\n",
    "        print(dic[word], end=' ')\n",
    "    else:\n",
    "        print(word, end=' ')"
   ]
  },
  {
   "cell_type": "code",
   "execution_count": 39,
   "metadata": {},
   "outputs": [
    {
     "name": "stdout",
     "output_type": "stream",
     "text": [
      "{}\n",
      "El monto pendiente a pagar es de: $0\n",
      "El monto pagado es de: $0\n",
      "{'f1': 2.0}\n",
      "El monto pendiente a pagar es de: $2.0\n",
      "El monto pagado es de: $0\n",
      "{'f1': 2.0, 'f2': 3.0}\n",
      "El monto pendiente a pagar es de: $5.0\n",
      "El monto pagado es de: $0\n",
      "{'f1': 2.0, 'f2': 3.0, 'f3': 1.0}\n",
      "El monto pendiente a pagar es de: $6.0\n",
      "El monto pagado es de: $0\n",
      "{'f1': 2.0, 'f3': 1.0}\n",
      "El monto pendiente a pagar es de: $3.0\n",
      "El monto pagado es de: $3.0\n"
     ]
    }
   ],
   "source": [
    "''' Ejercicio 9\n",
    "Escribir un programa que gestione las facturas pendientes de cobro de una empresa.\n",
    "Las facturas se almacenarán en un diccionario donde la clave de cada factura será el número de factura y el valor el coste de la factura.\n",
    "El programa debe preguntar al usuario si quiere añadir una nueva factura, pagar una existente o terminar. \n",
    "Si desea añadir una nueva factura se preguntará por el número de factura y su coste y se añadirá al diccionario. \n",
    "Si se desea pagar una factura se preguntará por el número de factura y se eliminará del diccionario. \n",
    "Después de cada operación el programa debe mostrar por pantalla la cantidad cobrada hasta el momento y la cantidad pendiente de cobro.'''\n",
    "\n",
    "info = {}\n",
    "\n",
    "monto_pagado = 0\n",
    "monto_pendiente = 0\n",
    "\n",
    "menu = ''\n",
    "\n",
    "while menu != 'T':\n",
    "    if menu == 'A':\n",
    "        numero = input('Digite el numero de factura: ')\n",
    "        monto = float(input('Digite el monto o coste de la factura: '))\n",
    "        info[numero] = monto\n",
    "        monto_pendiente += monto\n",
    "        \n",
    "    if menu == 'P':\n",
    "        numero = input('Digite el numero de factura: ')\n",
    "        if numero in info:\n",
    "            monto_pagado += info[numero]\n",
    "            monto_pendiente -= info[numero]\n",
    "            info.pop(numero)\n",
    "            \n",
    "        else:\n",
    "            print('El numero de factura no exite.')\n",
    "\n",
    "    print(info)\n",
    "    print(f'El monto pendiente a pagar es de: ${monto_pendiente}')\n",
    "    print(f'El monto pagado es de: ${monto_pagado}')\n",
    "    menu = input('Escriba (A)para añadir una nueva factura o (P)para pagar una factura existente o (T)para finalizar el programa: ').title()\n",
    "    "
   ]
  },
  {
   "cell_type": "code",
   "execution_count": 1,
   "metadata": {},
   "outputs": [
    {
     "name": "stdout",
     "output_type": "stream",
     "text": [
      "MENÚ: \n",
      "(1) Añadir cliente \n",
      "(2) Eliminar cliente \n",
      "(3) Mostrar cliente \n",
      "(4) Listar todos los clientes \n",
      "(5) Listar clientes preferentes \n",
      "(6) Terminar\n",
      "Se borrará el cliente con NIF \"03\"\n",
      "01 : {'nombre': 'mayte', 'direccion': 'cdmx', 'telefono': '5633687060', 'correo': 'emakbakia369', 'preferente': True}\n",
      "01: mayte\n",
      "02: oli\n",
      "01: mayte\n"
     ]
    },
    {
     "data": {
      "text/plain": [
       "{'01': {'nombre': 'mayte',\n",
       "  'direccion': 'cdmx',\n",
       "  'telefono': '5633687060',\n",
       "  'correo': 'emakbakia369',\n",
       "  'preferente': True},\n",
       " '02': {'nombre': 'oli',\n",
       "  'direccion': 'cdmx',\n",
       "  'telefono': '5512345678',\n",
       "  'correo': 'olisairi',\n",
       "  'preferente': False}}"
      ]
     },
     "execution_count": 1,
     "metadata": {},
     "output_type": "execute_result"
    }
   ],
   "source": [
    "'''Ejercicio 10\n",
    "Escribir un programa que permita gestionar la base de datos de clientes de una empresa. \n",
    "Los clientes se guardarán en un diccionario en el que la clave de cada cliente será su NIF, y el valor será otro diccionario con los datos del cliente \n",
    "(nombre, dirección, teléfono, correo, preferente), donde preferente tendrá el valor True si se trata de un cliente preferente. \n",
    "El programa debe preguntar al usuario por una opción del siguiente menú: \n",
    "(1) Añadir cliente, (2) Eliminar cliente, (3) Mostrar cliente, (4) Listar todos los clientes, (5) Listar clientes preferentes, (6) Terminar. \n",
    "En función de la opción elegida el programa tendrá que hacer lo siguiente:\n",
    "1. Preguntar los datos del cliente, crear un diccionario con los datos y añadirlo a la base de datos.\n",
    "2. Preguntar por el NIF del cliente y eliminar sus datos de la base de datos.\n",
    "3. Preguntar por el NIF del cliente y mostrar sus datos.\n",
    "4. Mostrar lista de todos los clientes de la base datos con su NIF y nombre.\n",
    "5. Mostrar la lista de clientes preferentes de la base de datos con su NIF y nombre.\n",
    "6. Terminar el programa.'''\n",
    "\n",
    "base_datos = {}\n",
    "\n",
    "print('MENÚ: \\n(1) Añadir cliente \\n(2) Eliminar cliente \\n(3) Mostrar cliente \\n(4) Listar todos los clientes \\n(5) Listar clientes preferentes \\n(6) Terminar')\n",
    "opcion = input('=> ')\n",
    "\n",
    "while opcion != '6':\n",
    "    # (1) Añadir cliente\n",
    "    if opcion == '1':\n",
    "        info_cliente = {\n",
    "            'nombre': '',\n",
    "            'direccion': '',\n",
    "            'telefono': '',\n",
    "            'correo': '',\n",
    "            'preferente': ''\n",
    "        }\n",
    "        nif = input('NIF: ')\n",
    "        for clave in info_cliente.keys():\n",
    "            valores = input(f'{clave}: ')\n",
    "            info_cliente[clave] = valores   \n",
    "\n",
    "        # Cambiar si/no por True/False\n",
    "        if info_cliente['preferente'] == 'si':\n",
    "            info_cliente['preferente'] = True\n",
    "        else: \n",
    "            info_cliente['preferente'] = False\n",
    "            \n",
    "        base_datos[nif] = info_cliente\n",
    "        \n",
    "    # (2) Eliminar cliente\n",
    "    if opcion == '2':\n",
    "        nif = input('NIF: ')\n",
    "        if nif in base_datos:\n",
    "            print(f'Se borrará el cliente con NIF \"{nif}\"')\n",
    "            base_datos.pop(nif)\n",
    "        else:\n",
    "            print(f'El NIF \"{nif}\" no se encontró en la base de datos.')\n",
    "            \n",
    "    # (3) Mostrar cliente\n",
    "    if opcion == '3':\n",
    "        nif = input('NIF: ')\n",
    "        if nif in base_datos:\n",
    "            print(nif, ':', base_datos[nif])\n",
    "        else:\n",
    "            print(f'El cliente con el NIF \"{nif}\" no se encontró en la base de datos.')\n",
    "    \n",
    "    # (4) Mostrar todos los clientes\n",
    "    if opcion == '4':\n",
    "        for claves, valores in base_datos.items():\n",
    "            print(claves + ':', valores['nombre'])\n",
    "            #print(base_datos)\n",
    "    \n",
    "    # (5) Mostrar clientes preferentes\n",
    "    if opcion == '5':\n",
    "        for claves, valores in base_datos.items():\n",
    "            if valores['preferente'] == True:\n",
    "                print(claves + ':', valores['nombre'])\n",
    "    \n",
    "    opcion = input('=> ')\n",
    "    \n",
    "base_datos"
   ]
  },
  {
   "cell_type": "code",
   "execution_count": 22,
   "metadata": {},
   "outputs": [
    {
     "name": "stdout",
     "output_type": "stream",
     "text": [
      "{'01234567L': {'nombre': 'Luis González', 'email': 'luisgonzalez@mail.com', 'teléfono': '656343576', 'descuento': '12.5'}, '71476342J': {'nombre': 'Macarena Ramírez', 'email': 'macarena@mail.com', 'teléfono': '692839321', 'descuento': '8'}, '63823376M': {'nombre': 'Juan José Martínez', 'email': 'juanjo@mail.com', 'teléfono': '664888233', 'descuento': '5.2'}, '98376547F': {'nombre': 'Carmen Sánchez', 'email': 'carmen@mail.com', 'teléfono': '667677855', 'descuento': '15.7'}}\n"
     ]
    },
    {
     "data": {
      "text/plain": [
       "{'01234567L': {'nombre': 'Luis González',\n",
       "  'email': 'luisgonzalez@mail.com',\n",
       "  'teléfono': '656343576',\n",
       "  'descuento': '12.5'},\n",
       " '71476342J': {'nombre': 'Macarena Ramírez',\n",
       "  'email': 'macarena@mail.com',\n",
       "  'teléfono': '692839321',\n",
       "  'descuento': '8'},\n",
       " '63823376M': {'nombre': 'Juan José Martínez',\n",
       "  'email': 'juanjo@mail.com',\n",
       "  'teléfono': '664888233',\n",
       "  'descuento': '5.2'},\n",
       " '98376547F': {'nombre': 'Carmen Sánchez',\n",
       "  'email': 'carmen@mail.com',\n",
       "  'teléfono': '667677855',\n",
       "  'descuento': '15.7'}}"
      ]
     },
     "execution_count": 22,
     "metadata": {},
     "output_type": "execute_result"
    }
   ],
   "source": [
    "'''Ejercicio 11\n",
    "El directorio de los clientes de una empresa está organizado en una cadena de texto como la de más abajo, \n",
    "donde cada línea contiene la información del nombre, email, teléfono, nif, y el descuento que se le aplica. \n",
    "Las líneas se separan con el carácter de cambio de línea \\n y la primera línea contiene los nombres de los campos con la información contenida en el directorio.\n",
    "\n",
    "\"nif;nombre;email;teléfono;descuento\\n01234567L;Luis González;luisgonzalez@mail.com;656343576;12.5\\n71476342J;Macarena Ramírez;macarena@mail.com;692839321;8\\n63823376M;Juan José Martínez;juanjo@mail.com;664888233;5.2\\n98376547F;Carmen Sánchez;carmen@mail.com;667677855;15.7\"\n",
    "\n",
    "Escribir un programa que genere un diccionario con la información del directorio, donde cada elemento corresponda a un cliente \n",
    "y tenga por clave su nif y por valor otro diccionario con el resto de la información del cliente. \n",
    "Los diccionarios con la información de cada cliente tendrán como claves los nombres de los campos y como valores la información de cada cliente correspondientes a los campos. \n",
    "Es decir, un diccionario como el siguiente:\n",
    "\n",
    "{'01234567L': {'nombre': 'Luis González', 'email': 'luisgonzalez@mail.com', 'teléfono': '656343576', 'descuento': 12.5}, '71476342J': {'nombre': 'Macarena Ramírez', 'email': 'macarena@mail.com', 'teléfono': '692839321', 'descuento': 8.0}, '63823376M': {'nombre': 'Juan José Martínez', 'email': 'juanjo@mail.com', 'teléfono': '664888233', 'descuento': 5.2}, '98376547F': {'nombre': 'Carmen Sánchez', 'email': 'carmen@mail.com', 'teléfono': '667677855', 'descuento': 15.7}}\n",
    "'''\n",
    "\n",
    "informacion = \"nif;nombre;email;teléfono;descuento\\n01234567L;Luis González;luisgonzalez@mail.com;656343576;12.5\\n71476342J;Macarena Ramírez;macarena@mail.com;692839321;8\\n63823376M;Juan José Martínez;juanjo@mail.com;664888233;5.2\\n98376547F;Carmen Sánchez;carmen@mail.com;667677855;15.7\"\n",
    "\n",
    "diccionario_general = {}\n",
    "\n",
    "seg_informacion = informacion.splitlines()\n",
    "\n",
    "# obtener una lista con los nombres de cada campo de información \n",
    "lista_campos = seg_informacion[0].split(';')\n",
    "#print(list_campos)\n",
    "\n",
    "# obtener la informacion de cada cliente en una lista \n",
    "for i in seg_informacion[1:]:\n",
    "    cliente = {}\n",
    "    lista_informacion = i.split(';')\n",
    "    #print(lista_informacion)\n",
    "    for j in range(1,len(lista_campos)):\n",
    "        cliente[lista_campos[j]] = lista_informacion[j]\n",
    "    #print(cliente)\n",
    "    diccionario_general[lista_informacion[0]] = cliente\n",
    "print(diccionario_general)\n",
    "diccionario_general"
   ]
  }
 ],
 "metadata": {
  "kernelspec": {
   "display_name": "challenge2024",
   "language": "python",
   "name": "python3"
  },
  "language_info": {
   "codemirror_mode": {
    "name": "ipython",
    "version": 3
   },
   "file_extension": ".py",
   "mimetype": "text/x-python",
   "name": "python",
   "nbconvert_exporter": "python",
   "pygments_lexer": "ipython3",
   "version": "3.10.14"
  }
 },
 "nbformat": 4,
 "nbformat_minor": 2
}
