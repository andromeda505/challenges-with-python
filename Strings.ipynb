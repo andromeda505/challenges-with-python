{
 "cells": [
  {
   "cell_type": "markdown",
   "id": "8ddf936d-7a33-4841-a7ef-40c8d5ff9a61",
   "metadata": {},
   "source": [
    "# Challenge"
   ]
  },
  {
   "cell_type": "code",
   "execution_count": null,
   "id": "c5d5abad-42d4-4371-97b0-207766133c1b",
   "metadata": {},
   "outputs": [],
   "source": [
    "'''Ejercicio 1\n",
    "Escribir un programa que pregunte el nombre del usuario en la consola \n",
    "y un número entero e imprima por pantalla en líneas distintas el nombre del usuario tantas veces como el número introducido. '''\n",
    "\n",
    "nombre = input('Escribe tu nombre: ')\n",
    "edad = int(input('Digita un número: '))\n",
    "\n",
    "print((nombre + '\\n') * edad)"
   ]
  },
  {
   "cell_type": "code",
   "execution_count": null,
   "id": "22ac7629-e28b-41ca-b06d-acbff0205d51",
   "metadata": {},
   "outputs": [],
   "source": [
    "'''Ejercicio 2\n",
    "Escribir un programa que pregunte el nombre completo del usuario en la consola y después muestre por pantalla el nombre completo del usuario tres veces, \n",
    "una con todas las letras minúsculas, otra con todas las letras mayúsculas y otra solo con la primera letra del nombre y de los apellidos en mayúscula. \n",
    "El usuario puede introducir su nombre combinando mayúsculas y minúsculas como quiera.'''\n",
    "\n",
    "nombre = input('Escribe tu nombre completo: ')\n",
    "\n",
    "print(nombre.lower()) #minusculas\n",
    "print(nombre.upper()) #mayusculas\n",
    "print(nombre.title()) #primera letra mayuscula"
   ]
  },
  {
   "cell_type": "code",
   "execution_count": null,
   "id": "df59f008-f124-412d-99c9-b6117a414904",
   "metadata": {},
   "outputs": [],
   "source": [
    "'''Ejercicio 3\n",
    "Escribir un programa que pregunte el nombre del usuario en la consola y después de que el usuario lo introduzca muestre por pantalla \n",
    "<NOMBRE> tiene <n> letras, donde <NOMBRE> es el nombre de usuario en mayúsculas y <n> es el número de letras que tienen el nombre.'''\n",
    "\n",
    "nombre = input('Escribe tu nombre: ')\n",
    "\n",
    "print(f'{nombre.title()} tiene {len(nombre)} letras.')"
   ]
  },
  {
   "cell_type": "code",
   "execution_count": null,
   "id": "891254b2-a966-438e-881a-016f5daeddf3",
   "metadata": {},
   "outputs": [],
   "source": [
    "'''Ejercicio 4\n",
    "Los teléfonos de una empresa tienen el siguiente formato prefijo-número-extension donde el prefijo es el código del país +34,\n",
    "y la extensión tiene dos dígitos (por ejemplo +34-913724710-56). \n",
    "Escribir un programa que pregunte por un número de teléfono con este formato y\n",
    "muestre por pantalla el número de teléfono sin el prefijo y la extensión.'''\n",
    "\n",
    "print('Ingresa tu número telefonico con el código y extension.')\n",
    "phone_num = input('Ejemplo: +34-913724710-56 => ')\n",
    "phone_num1 = phone_num[4:12]\n",
    "\n",
    "print(f'Tu numero telefonico es: {phone_num1}')"
   ]
  },
  {
   "cell_type": "code",
   "execution_count": null,
   "id": "32ff1d5d-a911-463e-889b-964017eab6e7",
   "metadata": {},
   "outputs": [],
   "source": [
    "'''Ejercicio 5\n",
    "Escribir un programa que pida al usuario que introduzca una frase en la consola y muestre por pantalla la frase invertida.'''\n",
    "\n",
    "frase = input('Introduce tu frase favorita: ')\n",
    "frase_invertida = frase[::-1]\n",
    "\n",
    "print(frase_invertida)"
   ]
  },
  {
   "cell_type": "code",
   "execution_count": null,
   "id": "51139ab9-7f55-4cdb-91a3-d60bd272b3aa",
   "metadata": {},
   "outputs": [],
   "source": [
    "'''Ejercicio 6\n",
    "Escribir un programa que pida al usuario que introduzca una frase en la consola y una vocal, \n",
    "y después muestre por pantalla la misma frase pero con la vocal introducida en mayúscula.'''\n",
    "\n",
    "texto = input('Introduce una frase: ')\n",
    "vocal = input('Elige una vocal: ')\n",
    "\n",
    "texto_modificado = texto.replace(vocal, vocal.upper())\n",
    "print(texto_modificado)"
   ]
  },
  {
   "cell_type": "code",
   "execution_count": null,
   "id": "1d4d86c4-d269-4927-b941-093e47da5541",
   "metadata": {},
   "outputs": [],
   "source": [
    "'''Ejercicio 7\n",
    "Escribir un programa que pregunte el correo electrónico del usuario en la consola \n",
    "y muestre por pantalla otro correo electrónico con el mismo nombre (la parte delante de la arroba @) pero con dominio ceu.es.'''\n",
    "\n",
    "email = input('Digita tu correo electrónico: ')\n",
    "\n",
    "posicion = email.find('@')\n",
    "\n",
    "print(email[:posicion] + '@.ceu.es')"
   ]
  },
  {
   "cell_type": "code",
   "execution_count": null,
   "id": "706badf2-137e-4617-a3b9-698b4eb88867",
   "metadata": {},
   "outputs": [],
   "source": [
    "'''Ejercicio 8\n",
    "Escribir un programa que pregunte por consola el precio de un producto en euros con dos decimales \n",
    "y muestre por pantalla el número de euros y el número de céntimos del precio introducido.'''\n",
    "\n",
    "precio = input('Digita el precio del producto con sus decimales: ')\n",
    "\n",
    "lista_precio = precio.split('.')\n",
    "#print(lista_precios)\n",
    "\n",
    "nueva_cadena = ' euros y '.join(lista_precio) + ' centimos'\n",
    "print(nueva_cadena)"
   ]
  },
  {
   "cell_type": "code",
   "execution_count": null,
   "id": "17558cc2-f3b0-4550-be21-174dd6ea0246",
   "metadata": {},
   "outputs": [],
   "source": [
    "'''Ejercicio 9\n",
    "Escribir un programa que pregunte al usuario la fecha de su nacimiento en formato dd/mm/aaaa y muestra por pantalla,\n",
    "el día, el mes y el año.'''\n",
    "\n",
    "fecha =  input('Introduce tu día de nacimiento en el siguiente formato dd/mm/aaaa: ')\n",
    "\n",
    "print(f'dia: {fecha[:2]}')\n",
    "print(f'mes: {fecha[3:5]}')\n",
    "print(f'ano: {fecha[6:]}')"
   ]
  },
  {
   "cell_type": "code",
   "execution_count": null,
   "id": "5dddce5b-019a-4615-a0ee-1a4f21bca1c5",
   "metadata": {},
   "outputs": [],
   "source": [
    "# Adaptar el programa anterior para que también funcione cuando el día o el mes se introduzcan con un solo carácter.\n",
    "fecha = input('Introduce tu fecha de nacimiento en el siguiente formato dd/mm/aaaa: ')\n",
    "\n",
    "dia = fecha[:fecha.find('/')]\n",
    "\n",
    "# se extrae la rebanada a partir del mes y ano\n",
    "mesaño = fecha[fecha.find('/')+1:]# devuelve => mm/aaaa porque se salta un caracter mas\n",
    "\n",
    "mes = mesaño[:mesaño.find('/')]\n",
    "año = mesaño[mesaño.find('/')+1:] # devuelve => aaaa porque se salta un caracter mas\n",
    "\n",
    "print('dia => ', dia)\n",
    "print('mes => ', mes)\n",
    "print('ano => ', año)"
   ]
  },
  {
   "cell_type": "code",
   "execution_count": null,
   "id": "b4628566-e899-48d4-b0c8-0f0595eeb672",
   "metadata": {},
   "outputs": [],
   "source": [
    "'''Ejercicio 10\n",
    "Escribir un programa que pregunte por consola por los productos de una cesta de la compra, separados por comas,\n",
    "y muestre por pantalla cada uno de los productos en una línea distinta.'''\n",
    "\n",
    "compras = input('Introduce la lista de compras (separa los productos por comas): ')\n",
    "\n",
    "lista = compras.split(',')\n",
    "#print(lista)\n",
    "\n",
    "lista_vertical = ' \\n'.join(lista)\n",
    "print(lista_vertical)"
   ]
  },
  {
   "cell_type": "code",
   "execution_count": null,
   "id": "03b6816a-ad1c-40ac-90e8-734a76ea75e4",
   "metadata": {},
   "outputs": [],
   "source": [
    "'''Ejercicio 11\n",
    "Escribir un programa que pregunte el nombre el un producto, su precio y un número de unidades y muestre por pantalla\n",
    "una cadena con el nombre del producto seguido de su precio unitario con 6 dígitos enteros y 2 decimales, \n",
    "el número de unidades con tres dígitos y el coste total con 8 dígitos enteros y 2 decimales.'''\n",
    "\n",
    "producto = input('Ingresa el nombre del producto: ')\n",
    "precio = input('Ingresa el precio del producto: ')\n",
    "cantidad = input('Ingresa la cantidad que necesitas: ')\n",
    "\n",
    "subtotal = round(float(precio) * float(cantidad), 2)\n",
    "total = str(subtotal)\n",
    "\n",
    "print(f'Cada {producto} cuesta ${str(precio.zfill(9))} Total por {cantidad} es ${str(total.zfill(11))}')"
   ]
  },
  {
   "cell_type": "code",
   "execution_count": 5,
   "id": "fc9f9470",
   "metadata": {},
   "outputs": [
    {
     "name": "stdin",
     "output_type": "stream",
     "text": [
      "Ingresa el nombre del producto:  egg\n",
      "Ingresa el precio del producto:  1.098\n",
      "Ingresa la cantidad que necesitas:  30\n"
     ]
    },
    {
     "name": "stdout",
     "output_type": "stream",
     "text": [
      "Cada egg cuesta $1.10 Total => $32.94\n"
     ]
    }
   ],
   "source": [
    "'''Ejercicio 11\n",
    "Escribir un programa que pregunte el nombre el un producto, su precio y un número de unidades y muestre por pantalla\n",
    "una cadena con el nombre del producto seguido de su precio unitario con 6 dígitos enteros y 2 decimales, \n",
    "el número de unidades con tres dígitos y el coste total con 8 dígitos enteros y 2 decimales.'''\n",
    "\n",
    "producto = input('Ingresa el nombre del producto: ')\n",
    "precio = float(input('Ingresa el precio del producto: '))\n",
    "cantidad = int(input('Ingresa la cantidad que necesitas: '))\n",
    "\n",
    "subtotal = precio * cantidad\n",
    "\n",
    "print(f'Cada {producto:} cuesta ${precio:.2f} Total => ${subtotal:.2f}')# :.2f formatea y redondea a 2 decimales"
   ]
  }
 ],
 "metadata": {
  "kernelspec": {
   "display_name": "Python 3 (ipykernel)",
   "language": "python",
   "name": "python3"
  },
  "language_info": {
   "codemirror_mode": {
    "name": "ipython",
    "version": 3
   },
   "file_extension": ".py",
   "mimetype": "text/x-python",
   "name": "python",
   "nbconvert_exporter": "python",
   "pygments_lexer": "ipython3",
   "version": "3.10.14"
  }
 },
 "nbformat": 4,
 "nbformat_minor": 5
}
